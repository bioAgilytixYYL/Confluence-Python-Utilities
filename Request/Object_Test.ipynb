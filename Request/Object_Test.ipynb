{
 "cells": [
  {
   "cell_type": "code",
   "execution_count": 31,
   "metadata": {},
   "outputs": [],
   "source": [
    "import sys\n",
    "sys.path.append('../')\n",
    "from Confluence.Confluence_Util import Confluence_Util\n",
    "from Comala.Comala_Util import Comala_Util\n",
    "from getpass import getpass\n",
    "import time\n",
    "from atlassian import Confluence\n",
    "import requests\n",
    "\n",
    "\n",
    "contentApiUrl = '/rest/api/content'\n",
    "# Change these based on your instance\n",
    "confluenceBaseUrl = \"https://confluence.corp.bioagilytix.com/confluence\"\n",
    "\n",
    "\n",
    "username = 'yangyang.liu'\n",
    "password = getpass(\"password\")\n",
    "\n",
    "\n",
    "confluenceUtil = Confluence_Util(confluenceBaseUrl, username, password)\n"
   ]
  },
  {
   "cell_type": "code",
   "execution_count": 32,
   "metadata": {},
   "outputs": [],
   "source": [
    "comalaUtil = Comala_Util(confluenceBaseUrl, username, password)"
   ]
  },
  {
   "cell_type": "code",
   "execution_count": 33,
   "metadata": {},
   "outputs": [
    {
     "name": "stdout",
     "output_type": "stream",
     "text": [
      "{'expand': 'approvals,actions,tasks,states', 'workflowName': 'GenUser-->Sample Management Review-->Final', 'state': {'name': 'Draft', 'description': 'Reason for Approval: Page Approval', 'initial': False, 'colour': '#FFAB00', 'hideStates': False, 'taskable': True, 'changeDueDate': False, 'transitions': {'approved': {'state': 'Sample Management Review'}, 'rejected': {'state': 'Draft'}, 'select': []}, 'final': False}, 'messages': [], 'displayProgressTracker': True, 'displaySuppressReadConfirmation': False, 'contributors': {'totalSize': -1, 'result': []}}\n",
      "True\n"
     ]
    }
   ],
   "source": [
    "print(comalaUtil.isDraft(44237983))\n"
   ]
  },
  {
   "cell_type": "code",
   "execution_count": 34,
   "metadata": {},
   "outputs": [
    {
     "name": "stdout",
     "output_type": "stream",
     "text": [
      "{'expand': 'approvals,actions,tasks,states', 'workflowName': 'Developer-->Requestor-->QA Management Review', 'state': {'name': 'Developer Review', 'initial': False, 'colour': '#ffab00', 'hideStates': False, 'taskable': True, 'changeDueDate': False, 'transitions': {'approved': {'state': 'Requestor Review'}, 'rejected': {'state': 'Developer Review'}, 'select': []}, 'final': False}, 'messages': [], 'displayProgressTracker': True, 'displaySuppressReadConfirmation': False, 'contributors': {'totalSize': -1, 'result': []}}\n",
      "False\n"
     ]
    }
   ],
   "source": [
    "print(comalaUtil.isFinal(23011766))\n"
   ]
  },
  {
   "cell_type": "code",
   "execution_count": 35,
   "metadata": {},
   "outputs": [
    {
     "name": "stdout",
     "output_type": "stream",
     "text": [
      "https://confluence.corp.bioagilytix.com/confluence/rest/cw/1/content/26385962/status\n",
      "{'expand': 'approvals,actions,tasks,states', 'workflowName': 'Developer-->Requestor-->QA Management Review', 'state': {'name': 'QA Management Review', 'initial': False, 'colour': '#4A6785', 'hideStates': False, 'taskable': True, 'changeDueDate': False, 'transitions': {'approved': {'state': 'Final'}, 'rejected': {'state': 'Developer Review'}, 'select': []}, 'final': False}, 'messages': [], 'displayProgressTracker': True, 'displaySuppressReadConfirmation': False, 'contributors': {'totalSize': -1, 'result': []}}\n"
     ]
    }
   ],
   "source": [
    "pageId = \"26385962\"\n",
    "requestUrl = \"{confluence}/rest/cw/1/content/{pageId}/status\".format(\n",
    "    confluence=confluenceBaseUrl, pageId=pageId)\n",
    "print(requestUrl)\n",
    "requestResponse = requests.get(requestUrl, auth=(username, password))\n",
    "print(requestResponse.json())\n"
   ]
  },
  {
   "cell_type": "code",
   "execution_count": 26,
   "metadata": {},
   "outputs": [
    {
     "name": "stdout",
     "output_type": "stream",
     "text": [
      "<Response [401]>\n"
     ]
    }
   ],
   "source": [
    "print(requestResponse)"
   ]
  },
  {
   "cell_type": "code",
   "execution_count": 37,
   "metadata": {},
   "outputs": [
    {
     "name": "stdout",
     "output_type": "stream",
     "text": [
      "https://confluence.corp.bioagilytix.com/confluence/rest/cw/1/content/26385962/status\n",
      "{'expand': 'approvals,actions,tasks,states', 'workflowName': 'Developer-->Requestor-->QA Management Review', 'state': {'name': 'QA Management Review', 'initial': False, 'colour': '#4A6785', 'hideStates': False, 'taskable': True, 'changeDueDate': False, 'transitions': {'approved': {'state': 'Final'}, 'rejected': {'state': 'Developer Review'}, 'select': []}, 'final': False}, 'messages': [], 'displayProgressTracker': True, 'displaySuppressReadConfirmation': False, 'contributors': {'totalSize': -1, 'result': []}}\n"
     ]
    }
   ],
   "source": [
    "from requests.auth import HTTPBasicAuth\n",
    "auth = HTTPBasicAuth(username, password)\n",
    "pageId = \"26385962\"\n",
    "requestUrl = \"{confluence}/rest/cw/1/content/{pageId}/status\".format(\n",
    "    confluence=confluenceBaseUrl, pageId=pageId)\n",
    "print(requestUrl)\n",
    "requestResponse = requests.get(requestUrl, auth=auth)\n",
    "print(requestResponse.json())\n"
   ]
  },
  {
   "cell_type": "code",
   "execution_count": null,
   "metadata": {},
   "outputs": [],
   "source": []
  }
 ],
 "metadata": {
  "interpreter": {
   "hash": "a87a7505f4d89169e6d5cf2a6d7bd7359ab6cdd6d48becaea481015b98b3383d"
  },
  "kernelspec": {
   "display_name": "Python 3.6.8 64-bit ('base': conda)",
   "language": "python",
   "name": "python3"
  },
  "language_info": {
   "codemirror_mode": {
    "name": "ipython",
    "version": 3
   },
   "file_extension": ".py",
   "mimetype": "text/x-python",
   "name": "python",
   "nbconvert_exporter": "python",
   "pygments_lexer": "ipython3",
   "version": "3.6.8"
  },
  "orig_nbformat": 4
 },
 "nbformat": 4,
 "nbformat_minor": 2
}
