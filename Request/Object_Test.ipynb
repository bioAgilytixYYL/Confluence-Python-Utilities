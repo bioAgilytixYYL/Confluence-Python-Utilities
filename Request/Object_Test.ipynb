{
 "cells": [
  {
   "cell_type": "code",
   "execution_count": 1,
   "metadata": {},
   "outputs": [],
   "source": [
    "import sys\n",
    "sys.path.append('../')\n",
    "from Confluence.Confluence_Util import Confluence_Util\n",
    "from Comala.Comala_Util import Comala_Util\n",
    "from getpass import getpass\n",
    "import time\n",
    "from atlassian import Confluence\n",
    "import requests\n",
    "\n",
    "\n",
    "contentApiUrl = '/rest/api/content'\n",
    "# Change these based on your instance\n",
    "confluenceBaseUrl = \"https://confluence.corp.bioagilytix.com/confluence\"\n",
    "\n",
    "\n",
    "username = 'yangyang.liu'\n",
    "password = getpass(\"password\")\n",
    "\n",
    "\n",
    "confluenceUtil = Confluence_Util(confluenceBaseUrl, username, password)\n",
    "comalaUtil = Comala_Util(confluenceBaseUrl, username, password)\n"
   ]
  },
  {
   "cell_type": "code",
   "execution_count": 1,
   "metadata": {},
   "outputs": [
    {
     "ename": "NameError",
     "evalue": "name 'Confluence' is not defined",
     "output_type": "error",
     "traceback": [
      "\u001b[0;31m---------------------------------------------------------------------------\u001b[0m",
      "\u001b[0;31mNameError\u001b[0m                                 Traceback (most recent call last)",
      "\u001b[0;32m<ipython-input-1-782c2b972337>\u001b[0m in \u001b[0;36m<module>\u001b[0;34m\u001b[0m\n\u001b[0;32m----> 1\u001b[0;31m \u001b[0mconfluence\u001b[0m \u001b[0;34m=\u001b[0m \u001b[0mConfluence\u001b[0m\u001b[0;34m(\u001b[0m\u001b[0murl\u001b[0m\u001b[0;34m=\u001b[0m\u001b[0mconfluenceBaseUrl\u001b[0m\u001b[0;34m,\u001b[0m \u001b[0musername\u001b[0m\u001b[0;34m=\u001b[0m\u001b[0musername\u001b[0m\u001b[0;34m,\u001b[0m \u001b[0mpassword\u001b[0m\u001b[0;34m=\u001b[0m\u001b[0mpassword\u001b[0m\u001b[0;34m)\u001b[0m\u001b[0;34m\u001b[0m\u001b[0;34m\u001b[0m\u001b[0m\n\u001b[0m",
      "\u001b[0;31mNameError\u001b[0m: name 'Confluence' is not defined"
     ]
    }
   ],
   "source": [
    "from atlassian import Confluence\n",
    "\n",
    "confluence = Confluence(url=confluenceBaseUrl, username=username, password=password)\n"
   ]
  },
  {
   "cell_type": "code",
   "execution_count": 3,
   "metadata": {},
   "outputs": [
    {
     "name": "stdout",
     "output_type": "stream",
     "text": [
      "True\n"
     ]
    }
   ],
   "source": [
    "print(comalaUtil.isDraft(44237983))\n"
   ]
  },
  {
   "cell_type": "code",
   "execution_count": 4,
   "metadata": {},
   "outputs": [
    {
     "name": "stdout",
     "output_type": "stream",
     "text": [
      "Request Successful with Status Code: 200 on the page : 23011766\n",
      "False\n"
     ]
    }
   ],
   "source": [
    "print(comalaUtil.isFinal(23011766))\n"
   ]
  },
  {
   "cell_type": "code",
   "execution_count": 5,
   "metadata": {},
   "outputs": [
    {
     "name": "stdout",
     "output_type": "stream",
     "text": [
      "https://confluence.corp.bioagilytix.com/confluence/rest/cw/1/content/26385962/status\n",
      "False\n"
     ]
    }
   ],
   "source": [
    "pageId = \"26385962\"\n",
    "requestUrl = \"{confluence}/rest/cw/1/content/{pageId}/status\".format(\n",
    "    confluence=confluenceBaseUrl, pageId=pageId)\n",
    "print(requestUrl)\n",
    "requestResponse = requests.get(requestUrl, auth=(username, password))\n",
    "print(requestResponse.json()['state']['final'])\n"
   ]
  },
  {
   "cell_type": "code",
   "execution_count": 6,
   "metadata": {},
   "outputs": [
    {
     "name": "stdout",
     "output_type": "stream",
     "text": [
      "<Response [200]>\n"
     ]
    }
   ],
   "source": [
    "print(requestResponse)"
   ]
  },
  {
   "cell_type": "code",
   "execution_count": 7,
   "metadata": {},
   "outputs": [
    {
     "name": "stdout",
     "output_type": "stream",
     "text": [
      "https://confluence.corp.bioagilytix.com/confluence/rest/cw/1/content/26385962/status\n",
      "{'expand': 'approvals,actions,tasks,states', 'workflowName': 'Developer-->Requestor-->QA Management Review', 'state': {'name': 'QA Management Review', 'initial': False, 'colour': '#4A6785', 'hideStates': False, 'taskable': True, 'changeDueDate': False, 'transitions': {'approved': {'state': 'Final'}, 'rejected': {'state': 'Developer Review'}, 'select': []}, 'final': False}, 'messages': [], 'displayProgressTracker': True, 'displaySuppressReadConfirmation': False, 'contributors': {'totalSize': -1, 'result': []}}\n"
     ]
    }
   ],
   "source": [
    "from requests.auth import HTTPBasicAuth\n",
    "auth = HTTPBasicAuth(username, password)\n",
    "pageId = \"26385962\"\n",
    "requestUrl = \"{confluence}/rest/cw/1/content/{pageId}/status\".format(\n",
    "    confluence=confluenceBaseUrl, pageId=pageId)\n",
    "print(requestUrl)\n",
    "requestResponse = requests.get(requestUrl, auth=auth)\n",
    "print(requestResponse.json())\n"
   ]
  },
  {
   "cell_type": "code",
   "execution_count": 3,
   "metadata": {},
   "outputs": [
    {
     "name": "stdout",
     "output_type": "stream",
     "text": [
      "https://confluence.corp.bioagilytix.com/confluence/rest/api/space/YSB/content?start=0&limit=9999&type=page\n",
      "<Response [200]>\n"
     ]
    }
   ],
   "source": [
    "pageIdList = confluenceUtil.get_all_page_id_from_space('YSB')\n"
   ]
  },
  {
   "cell_type": "code",
   "execution_count": 4,
   "metadata": {},
   "outputs": [
    {
     "name": "stdout",
     "output_type": "stream",
     "text": [
      "Request Failed with Status Code: 204 on the page : 26406695\n",
      "-1\n",
      "Request Failed with Status Code: 204 on the page : 26406711\n",
      "-1\n",
      "Request Failed with Status Code: 204 on the page : 26406791\n",
      "-1\n",
      "Request Successful with Status Code: 200 on the page : 26406792\n",
      "0\n",
      "Request Failed with Status Code: 204 on the page : 26406793\n",
      "-1\n",
      "Request Failed with Status Code: 204 on the page : 26406794\n",
      "-1\n",
      "Request Failed with Status Code: 204 on the page : 26406796\n",
      "-1\n",
      "Request Successful with Status Code: 200 on the page : 26406797\n",
      "0\n",
      "Request Failed with Status Code: 204 on the page : 26406798\n",
      "-1\n",
      "Request Failed with Status Code: 204 on the page : 26406799\n",
      "-1\n",
      "Request Failed with Status Code: 204 on the page : 26406800\n",
      "-1\n",
      "Request Failed with Status Code: 204 on the page : 26406801\n",
      "-1\n",
      "Request Failed with Status Code: 204 on the page : 26406802\n",
      "-1\n",
      "Request Failed with Status Code: 204 on the page : 26406803\n",
      "-1\n",
      "Request Failed with Status Code: 204 on the page : 26406804\n",
      "-1\n",
      "Request Failed with Status Code: 204 on the page : 26406805\n",
      "-1\n",
      "Request Failed with Status Code: 204 on the page : 26406806\n",
      "-1\n",
      "Request Failed with Status Code: 204 on the page : 26406807\n",
      "-1\n",
      "Request Failed with Status Code: 204 on the page : 26406808\n",
      "-1\n",
      "Request Failed with Status Code: 204 on the page : 26406810\n",
      "-1\n",
      "Request Failed with Status Code: 204 on the page : 26406812\n",
      "-1\n",
      "Request Failed with Status Code: 204 on the page : 26406814\n",
      "-1\n",
      "Request Failed with Status Code: 204 on the page : 26406815\n",
      "-1\n",
      "Request Failed with Status Code: 204 on the page : 26406816\n",
      "-1\n",
      "Request Failed with Status Code: 204 on the page : 26406817\n",
      "-1\n",
      "Request Failed with Status Code: 204 on the page : 26406818\n",
      "-1\n",
      "Request Failed with Status Code: 204 on the page : 26406819\n",
      "-1\n",
      "Request Failed with Status Code: 204 on the page : 26406820\n",
      "-1\n",
      "Request Failed with Status Code: 204 on the page : 26406821\n",
      "-1\n",
      "Request Failed with Status Code: 204 on the page : 26406823\n",
      "-1\n",
      "Request Failed with Status Code: 204 on the page : 26406825\n",
      "-1\n",
      "Request Failed with Status Code: 204 on the page : 26406826\n",
      "-1\n",
      "Request Failed with Status Code: 204 on the page : 26406827\n",
      "-1\n",
      "Request Failed with Status Code: 204 on the page : 26406828\n",
      "-1\n",
      "Request Failed with Status Code: 204 on the page : 26406829\n",
      "-1\n",
      "Request Failed with Status Code: 204 on the page : 26406830\n",
      "-1\n",
      "Request Failed with Status Code: 204 on the page : 26406831\n",
      "-1\n",
      "Request Failed with Status Code: 204 on the page : 26406832\n",
      "-1\n",
      "Request Failed with Status Code: 204 on the page : 26406833\n",
      "-1\n",
      "Request Failed with Status Code: 204 on the page : 26406834\n",
      "-1\n",
      "Request Failed with Status Code: 204 on the page : 26406835\n",
      "-1\n",
      "Request Failed with Status Code: 204 on the page : 44238406\n",
      "-1\n",
      "Request Failed with Status Code: 204 on the page : 44238412\n",
      "-1\n"
     ]
    }
   ],
   "source": [
    "for pageId in pageIdList:\n",
    "    print(comalaUtil.isFinal(pageId))"
   ]
  },
  {
   "cell_type": "code",
   "execution_count": 6,
   "metadata": {},
   "outputs": [
    {
     "name": "stdout",
     "output_type": "stream",
     "text": [
      "Request Failed with Status Code: 204 on the page : 26406695\n",
      "https://confluence.corp.bioagilytix.com/confluence/rest/scriptrunner/latest/custom/addFootNoteField?rootPageId=26406695\n",
      "{'type': 'success', 'title': 'Execution Success', 'close': 'auto', 'body': 'Successfully updated Nothing! No Audit Form Found!.'}\n",
      "\n",
      "Request Failed with Status Code: 204 on the page : 26406711\n",
      "https://confluence.corp.bioagilytix.com/confluence/rest/scriptrunner/latest/custom/addFootNoteField?rootPageId=26406711\n",
      "{'type': 'success', 'title': 'Execution Success', 'close': 'auto', 'body': 'Successfully updated Copy of Sample / Reference / Critical Reagent.'}\n",
      "\n",
      "Request Failed with Status Code: 204 on the page : 26406791\n",
      "https://confluence.corp.bioagilytix.com/confluence/rest/scriptrunner/latest/custom/addFootNoteField?rootPageId=26406791\n",
      "{'type': 'success', 'title': 'Execution Success', 'close': 'auto', 'body': 'Successfully updated Nothing! No Audit Form Found!.'}\n",
      "\n",
      "Request Successful with Status Code: 200 on the page : 26406792\n",
      "https://confluence.corp.bioagilytix.com/confluence/rest/scriptrunner/latest/custom/addFootNoteField?rootPageId=26406792\n",
      "{'type': 'error', 'title': 'Unable to Restore Title', 'close': 'manual', 'body': 'Cannot invoke method append() on null object'}\n",
      "\n",
      "Request Failed with Status Code: 204 on the page : 26406793\n",
      "https://confluence.corp.bioagilytix.com/confluence/rest/scriptrunner/latest/custom/addFootNoteField?rootPageId=26406793\n",
      "{'type': 'success', 'title': 'Execution Success', 'close': 'auto', 'body': 'Successfully updated Nothing! No Audit Form Found!.'}\n",
      "\n",
      "Request Failed with Status Code: 204 on the page : 26406794\n",
      "https://confluence.corp.bioagilytix.com/confluence/rest/scriptrunner/latest/custom/addFootNoteField?rootPageId=26406794\n",
      "{'type': 'success', 'title': 'Execution Success', 'close': 'auto', 'body': 'Successfully updated Memo.'}\n",
      "\n",
      "Request Failed with Status Code: 204 on the page : 26406796\n",
      "https://confluence.corp.bioagilytix.com/confluence/rest/scriptrunner/latest/custom/addFootNoteField?rootPageId=26406796\n",
      "{'type': 'success', 'title': 'Execution Success', 'close': 'auto', 'body': 'Successfully updated Nothing! No Audit Form Found!.'}\n",
      "\n",
      "Request Successful with Status Code: 200 on the page : 26406797\n",
      "https://confluence.corp.bioagilytix.com/confluence/rest/scriptrunner/latest/custom/addFootNoteField?rootPageId=26406797\n",
      "{'type': 'success', 'title': 'Execution Success', 'close': 'auto', 'body': 'Successfully updated Nothing! Foot Audit Form Already Added!.'}\n",
      "\n",
      "Request Failed with Status Code: 204 on the page : 26406798\n",
      "https://confluence.corp.bioagilytix.com/confluence/rest/scriptrunner/latest/custom/addFootNoteField?rootPageId=26406798\n",
      "{'type': 'success', 'title': 'Execution Success', 'close': 'auto', 'body': 'Successfully updated Nothing! No Audit Form Found!.'}\n",
      "\n",
      "Request Failed with Status Code: 204 on the page : 26406799\n",
      "https://confluence.corp.bioagilytix.com/confluence/rest/scriptrunner/latest/custom/addFootNoteField?rootPageId=26406799\n",
      "{'type': 'success', 'title': 'Execution Success', 'close': 'auto', 'body': 'Successfully updated Study Specific Training Documentation.'}\n",
      "\n",
      "Request Failed with Status Code: 204 on the page : 26406800\n",
      "https://confluence.corp.bioagilytix.com/confluence/rest/scriptrunner/latest/custom/addFootNoteField?rootPageId=26406800\n",
      "{'type': 'success', 'title': 'Execution Success', 'close': 'auto', 'body': 'Successfully updated Study Specific Training Waiver.'}\n",
      "\n",
      "Request Failed with Status Code: 204 on the page : 26406801\n",
      "https://confluence.corp.bioagilytix.com/confluence/rest/scriptrunner/latest/custom/addFootNoteField?rootPageId=26406801\n",
      "{'type': 'success', 'title': 'Execution Success', 'close': 'auto', 'body': 'Successfully updated Other Study Specific Training.'}\n",
      "\n",
      "Request Failed with Status Code: 204 on the page : 26406802\n",
      "https://confluence.corp.bioagilytix.com/confluence/rest/scriptrunner/latest/custom/addFootNoteField?rootPageId=26406802\n",
      "{'type': 'success', 'title': 'Execution Success', 'close': 'auto', 'body': 'Successfully updated Study Participants and Roles.'}\n",
      "\n",
      "Request Failed with Status Code: 204 on the page : 26406803\n",
      "https://confluence.corp.bioagilytix.com/confluence/rest/scriptrunner/latest/custom/addFootNoteField?rootPageId=26406803\n",
      "{'type': 'success', 'title': 'Execution Success', 'close': 'auto', 'body': 'Successfully updated Sponsor Protocol / Supporting Documents.'}\n",
      "\n",
      "Request Failed with Status Code: 204 on the page : 26406804\n",
      "https://confluence.corp.bioagilytix.com/confluence/rest/scriptrunner/latest/custom/addFootNoteField?rootPageId=26406804\n",
      "{'type': 'success', 'title': 'Execution Success', 'close': 'auto', 'body': 'Successfully updated Method Transfer.'}\n",
      "\n",
      "Request Failed with Status Code: 204 on the page : 26406805\n",
      "https://confluence.corp.bioagilytix.com/confluence/rest/scriptrunner/latest/custom/addFootNoteField?rootPageId=26406805\n",
      "{'type': 'success', 'title': 'Execution Success', 'close': 'auto', 'body': 'Successfully updated Study Plan/Method SOP.'}\n",
      "\n",
      "Request Failed with Status Code: 204 on the page : 26406806\n",
      "https://confluence.corp.bioagilytix.com/confluence/rest/scriptrunner/latest/custom/addFootNoteField?rootPageId=26406806\n",
      "{'type': 'success', 'title': 'Execution Success', 'close': 'auto', 'body': 'Successfully updated Sample / Reference / Critical Reagent.'}\n",
      "\n",
      "Request Failed with Status Code: 204 on the page : 26406807\n",
      "https://confluence.corp.bioagilytix.com/confluence/rest/scriptrunner/latest/custom/addFootNoteField?rootPageId=26406807\n",
      "{'type': 'success', 'title': 'Execution Success', 'close': 'auto', 'body': 'Successfully updated BioAgilytix GMP Sample, Reference Material and Critical Reagent Submission Form.'}\n",
      "\n",
      "Request Failed with Status Code: 204 on the page : 26406808\n",
      "https://confluence.corp.bioagilytix.com/confluence/rest/scriptrunner/latest/custom/addFootNoteField?rootPageId=26406808\n",
      "{'type': 'success', 'title': 'Execution Success', 'close': 'auto', 'body': 'Successfully updated GMP Sample, Reference Material & Critical Reagent Accessioning.'}\n",
      "\n",
      "Request Failed with Status Code: 204 on the page : 26406810\n",
      "https://confluence.corp.bioagilytix.com/confluence/rest/scriptrunner/latest/custom/addFootNoteField?rootPageId=26406810\n",
      "{'type': 'success', 'title': 'Execution Success', 'close': 'auto', 'body': 'Successfully updated GMP Sample Receipt/Transfer Form.'}\n",
      "\n",
      "Request Failed with Status Code: 204 on the page : 26406812\n",
      "https://confluence.corp.bioagilytix.com/confluence/rest/scriptrunner/latest/custom/addFootNoteField?rootPageId=26406812\n",
      "{'type': 'success', 'title': 'Execution Success', 'close': 'auto', 'body': 'Successfully updated GMP Disposition/Return Form.'}\n",
      "\n",
      "Request Failed with Status Code: 204 on the page : 26406814\n",
      "https://confluence.corp.bioagilytix.com/confluence/rest/scriptrunner/latest/custom/addFootNoteField?rootPageId=26406814\n",
      "{'type': 'success', 'title': 'Execution Success', 'close': 'auto', 'body': 'Successfully updated External Certificate of Analysis for Critical Reagents.'}\n",
      "\n",
      "Request Failed with Status Code: 204 on the page : 26406815\n",
      "https://confluence.corp.bioagilytix.com/confluence/rest/scriptrunner/latest/custom/addFootNoteField?rootPageId=26406815\n",
      "{'type': 'success', 'title': 'Execution Success', 'close': 'auto', 'body': 'Successfully updated General Reagents/Materials.'}\n",
      "\n",
      "Request Failed with Status Code: 204 on the page : 26406816\n",
      "https://confluence.corp.bioagilytix.com/confluence/rest/scriptrunner/latest/custom/addFootNoteField?rootPageId=26406816\n",
      "{'type': 'success', 'title': 'Execution Success', 'close': 'auto', 'body': 'Successfully updated External General Reagent CoA.'}\n",
      "\n",
      "Request Failed with Status Code: 204 on the page : 26406817\n",
      "https://confluence.corp.bioagilytix.com/confluence/rest/scriptrunner/latest/custom/addFootNoteField?rootPageId=26406817\n",
      "{'type': 'success', 'title': 'Execution Success', 'close': 'auto', 'body': 'Successfully updated General Reagents/Materials Shipping Information.'}\n",
      "\n",
      "Request Failed with Status Code: 204 on the page : 26406818\n",
      "https://confluence.corp.bioagilytix.com/confluence/rest/scriptrunner/latest/custom/addFootNoteField?rootPageId=26406818\n",
      "{'type': 'success', 'title': 'Execution Success', 'close': 'auto', 'body': 'Successfully updated Nothing! No Audit Form Found!.'}\n",
      "\n",
      "Request Failed with Status Code: 204 on the page : 26406819\n",
      "https://confluence.corp.bioagilytix.com/confluence/rest/scriptrunner/latest/custom/addFootNoteField?rootPageId=26406819\n",
      "{'type': 'success', 'title': 'Execution Success', 'close': 'auto', 'body': 'Successfully updated Manual Upload.'}\n",
      "\n",
      "Request Failed with Status Code: 204 on the page : 26406820\n",
      "https://confluence.corp.bioagilytix.com/confluence/rest/scriptrunner/latest/custom/addFootNoteField?rootPageId=26406820\n",
      "{'type': 'success', 'title': 'Execution Success', 'close': 'auto', 'body': 'Successfully updated Nothing! No Audit Form Found!.'}\n",
      "\n",
      "Request Failed with Status Code: 204 on the page : 26406821\n",
      "https://confluence.corp.bioagilytix.com/confluence/rest/scriptrunner/latest/custom/addFootNoteField?rootPageId=26406821\n",
      "{'type': 'success', 'title': 'Execution Success', 'close': 'auto', 'body': 'Successfully updated GMP Balance Print-Out Recording Form.'}\n",
      "\n",
      "Request Failed with Status Code: 204 on the page : 26406823\n",
      "https://confluence.corp.bioagilytix.com/confluence/rest/scriptrunner/latest/custom/addFootNoteField?rootPageId=26406823\n",
      "{'type': 'success', 'title': 'Execution Success', 'close': 'auto', 'body': 'Successfully updated GMP pH Meter Print-Out Recording Form.'}\n",
      "\n",
      "Request Failed with Status Code: 204 on the page : 26406825\n",
      "https://confluence.corp.bioagilytix.com/confluence/rest/scriptrunner/latest/custom/addFootNoteField?rootPageId=26406825\n",
      "{'type': 'success', 'title': 'Execution Success', 'close': 'auto', 'body': 'Successfully updated Nothing! No Audit Form Found!.'}\n",
      "\n",
      "Request Failed with Status Code: 204 on the page : 26406826\n",
      "https://confluence.corp.bioagilytix.com/confluence/rest/scriptrunner/latest/custom/addFootNoteField?rootPageId=26406826\n",
      "{'type': 'success', 'title': 'Execution Success', 'close': 'auto', 'body': 'Successfully updated Deviations.'}\n",
      "\n",
      "Request Failed with Status Code: 204 on the page : 26406827\n",
      "https://confluence.corp.bioagilytix.com/confluence/rest/scriptrunner/latest/custom/addFootNoteField?rootPageId=26406827\n",
      "{'type': 'success', 'title': 'Execution Success', 'close': 'auto', 'body': 'Successfully updated Invalid Assay Investigations.'}\n",
      "\n",
      "Request Failed with Status Code: 204 on the page : 26406828\n",
      "https://confluence.corp.bioagilytix.com/confluence/rest/scriptrunner/latest/custom/addFootNoteField?rootPageId=26406828\n",
      "{'type': 'success', 'title': 'Execution Success', 'close': 'auto', 'body': 'Successfully updated Investigations (LI).'}\n",
      "\n",
      "Request Failed with Status Code: 204 on the page : 26406829\n",
      "https://confluence.corp.bioagilytix.com/confluence/rest/scriptrunner/latest/custom/addFootNoteField?rootPageId=26406829\n",
      "{'type': 'success', 'title': 'Execution Success', 'close': 'auto', 'body': 'Successfully updated OOS.'}\n",
      "\n",
      "Request Failed with Status Code: 204 on the page : 26406830\n",
      "https://confluence.corp.bioagilytix.com/confluence/rest/scriptrunner/latest/custom/addFootNoteField?rootPageId=26406830\n",
      "{'type': 'success', 'title': 'Execution Success', 'close': 'auto', 'body': 'Successfully updated CAPAS.'}\n",
      "\n",
      "Request Failed with Status Code: 204 on the page : 26406831\n",
      "https://confluence.corp.bioagilytix.com/confluence/rest/scriptrunner/latest/custom/addFootNoteField?rootPageId=26406831\n",
      "{'type': 'success', 'title': 'Execution Success', 'close': 'auto', 'body': 'Successfully updated Nothing! No Audit Form Found!.'}\n",
      "\n",
      "Request Failed with Status Code: 204 on the page : 26406832\n",
      "https://confluence.corp.bioagilytix.com/confluence/rest/scriptrunner/latest/custom/addFootNoteField?rootPageId=26406832\n",
      "{'type': 'success', 'title': 'Execution Success', 'close': 'auto', 'body': 'Successfully updated Assay Failure Analysis.'}\n",
      "\n",
      "Request Failed with Status Code: 204 on the page : 26406833\n",
      "https://confluence.corp.bioagilytix.com/confluence/rest/scriptrunner/latest/custom/addFootNoteField?rootPageId=26406833\n",
      "{'type': 'success', 'title': 'Execution Success', 'close': 'auto', 'body': 'Successfully updated Issued Certificate of Analysis (GMP).'}\n",
      "\n",
      "Request Failed with Status Code: 204 on the page : 26406834\n",
      "https://confluence.corp.bioagilytix.com/confluence/rest/scriptrunner/latest/custom/addFootNoteField?rootPageId=26406834\n",
      "{'type': 'success', 'title': 'Execution Success', 'close': 'auto', 'body': 'Successfully updated Issued Certificate of Testing (GMP).'}\n",
      "\n",
      "Request Failed with Status Code: 204 on the page : 26406835\n",
      "https://confluence.corp.bioagilytix.com/confluence/rest/scriptrunner/latest/custom/addFootNoteField?rootPageId=26406835\n",
      "{'type': 'success', 'title': 'Execution Success', 'close': 'auto', 'body': 'Successfully updated Archive Submission Form.'}\n",
      "\n",
      "Request Failed with Status Code: 204 on the page : 44238406\n",
      "https://confluence.corp.bioagilytix.com/confluence/rest/scriptrunner/latest/custom/addFootNoteField?rootPageId=44238406\n",
      "{'type': 'success', 'title': 'Execution Success', 'close': 'auto', 'body': 'Successfully updated Nothing! No Audit Form Found!.'}\n",
      "\n",
      "Request Failed with Status Code: 204 on the page : 44238412\n",
      "https://confluence.corp.bioagilytix.com/confluence/rest/scriptrunner/latest/custom/addFootNoteField?rootPageId=44238412\n",
      "{'type': 'success', 'title': 'Execution Success', 'close': 'auto', 'body': 'Successfully updated Nothing! No Audit Form Found!.'}\n",
      "\n"
     ]
    }
   ],
   "source": [
    "def fixFootNoteField(pageIdList):\n",
    "    for pageId in pageIdList:\n",
    "        if comalaUtil.isFinal(pageId) < 1:\n",
    "            requestUrl = \"{}/rest/scriptrunner/latest/custom/addFootNoteField?rootPageId={}\".format(confluenceBaseUrl, pageId)\n",
    "        print(requestUrl)\n",
    "\n",
    "        requestResponse = requests.get(requestUrl, auth=(username, password))\n",
    "        time.sleep(5)\n",
    "        print(requestResponse.json())\n",
    "        print()\n",
    "        \n"
   ]
  },
  {
   "cell_type": "code",
   "execution_count": 17,
   "metadata": {},
   "outputs": [],
   "source": [
    "confluence = Confluence(\n",
    "    url='https://confluence.corp.bioagilytix.com/confluence',\n",
    "    username=username,\n",
    "    password=password)\n",
    "\n",
    "\n",
    "allSpace = confluence.get_all_spaces(start=500, limit=2000)\n",
    "\n",
    "\n"
   ]
  },
  {
   "cell_type": "code",
   "execution_count": 18,
   "metadata": {},
   "outputs": [
    {
     "name": "stdout",
     "output_type": "stream",
     "text": [
      "81\n"
     ]
    }
   ],
   "source": [
    "print(len(allSpace))"
   ]
  },
  {
   "cell_type": "code",
   "execution_count": 16,
   "metadata": {},
   "outputs": [
    {
     "name": "stdout",
     "output_type": "stream",
     "text": [
      "~vKloppA\n"
     ]
    }
   ],
   "source": [
    "print(allSpace[1]['key'])"
   ]
  },
  {
   "cell_type": "code",
   "execution_count": null,
   "metadata": {},
   "outputs": [],
   "source": []
  }
 ],
 "metadata": {
  "interpreter": {
   "hash": "a87a7505f4d89169e6d5cf2a6d7bd7359ab6cdd6d48becaea481015b98b3383d"
  },
  "kernelspec": {
   "display_name": "Python 3.6.8 64-bit ('base': conda)",
   "language": "python",
   "name": "python3"
  },
  "language_info": {
   "codemirror_mode": {
    "name": "ipython",
    "version": 3
   },
   "file_extension": ".py",
   "mimetype": "text/x-python",
   "name": "python",
   "nbconvert_exporter": "python",
   "pygments_lexer": "ipython3",
   "version": "3.6.8"
  },
  "orig_nbformat": 4
 },
 "nbformat": 4,
 "nbformat_minor": 2
}
