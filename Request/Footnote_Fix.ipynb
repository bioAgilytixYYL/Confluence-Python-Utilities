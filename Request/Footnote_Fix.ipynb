{
 "cells": [
  {
   "cell_type": "code",
   "execution_count": 2,
   "metadata": {},
   "outputs": [],
   "source": [
    "import sys\n",
    "sys.path.append('../')\n",
    "from Confluence.Confluence_Util import Confluence_Util\n",
    "from Comala.Comala_Util import Comala_Util\n",
    "from getpass import getpass\n",
    "import time\n",
    "from atlassian import Confluence\n",
    "import requests\n",
    "\n",
    "\n",
    "contentApiUrl = '/rest/api/content'\n",
    "# Change these based on your instance\n",
    "confluenceBaseUrl = \"https://confluence.corp.bioagilytix.com/confluence\"\n",
    "\n",
    "\n",
    "username = 'yangyang.liu'\n",
    "password = getpass(\"password\")\n",
    "\n",
    "\n",
    "confluenceUtil = Confluence_Util(confluenceBaseUrl, username, password)\n",
    "comalaUtil = Comala_Util(confluenceBaseUrl, username, password)\n",
    "confluence = Confluence(\n",
    "    url='https://confluence.corp.bioagilytix.com/confluence',\n",
    "    username=username,\n",
    "    password=password)"
   ]
  },
  {
   "cell_type": "code",
   "execution_count": 3,
   "metadata": {},
   "outputs": [],
   "source": [
    "def fixFootNoteField(pageIdList):\n",
    "    for pageId in pageIdList:\n",
    "        if comalaUtil.isFinal(pageId) < 1:\n",
    "            requestUrl = \"{}/rest/scriptrunner/latest/custom/addFootNoteField?rootPageId={}\".format(confluenceBaseUrl, pageId)\n",
    "        print(requestUrl)\n",
    "\n",
    "        requestResponse = requests.get(requestUrl, auth=(username, password))\n",
    "        time.sleep(5)\n",
    "        print(requestResponse.json())\n",
    "        print()\n",
    "        "
   ]
  },
  {
   "cell_type": "code",
   "execution_count": null,
   "metadata": {},
   "outputs": [],
   "source": [
    "allSpace = confluence.get_all_spaces(start=500, limit=2000)\n"
   ]
  },
  {
   "cell_type": "code",
   "execution_count": null,
   "metadata": {},
   "outputs": [],
   "source": [
    "pageIdList = confluenceUtil.get_all_page_id_from_space('YSB')\n",
    "for pageId in pageIdList:\n",
    "    print(comalaUtil.isFinal(pageId))"
   ]
  }
 ],
 "metadata": {
  "interpreter": {
   "hash": "b89b5cfaba6639976dc87ff2fec6d58faec662063367e2c229c520fe71072417"
  },
  "kernelspec": {
   "display_name": "Python 3.10.1 64-bit",
   "language": "python",
   "name": "python3"
  },
  "language_info": {
   "codemirror_mode": {
    "name": "ipython",
    "version": 3
   },
   "file_extension": ".py",
   "mimetype": "text/x-python",
   "name": "python",
   "nbconvert_exporter": "python",
   "pygments_lexer": "ipython3",
   "version": "3.10.1"
  },
  "orig_nbformat": 4
 },
 "nbformat": 4,
 "nbformat_minor": 2
}
