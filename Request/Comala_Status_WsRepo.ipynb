{
 "cells": [
  {
   "cell_type": "code",
   "execution_count": 23,
   "metadata": {},
   "outputs": [],
   "source": [
    "import requests\n",
    "from atlassian import Confluence\n",
    "import time\n",
    "from getpass import getpass\n",
    "\n",
    "contentApiUrl = '/rest/api/content'\n",
    "# Change these based on your instance\n",
    "confluenceBaseUrl = 'https://confluence.corp.bioagilytix.com/confluence'\n"
   ]
  },
  {
   "cell_type": "code",
   "execution_count": 26,
   "metadata": {},
   "outputs": [],
   "source": [
    "\n",
    "username = 'yangyang.liu'\n",
    "password = getpass(\"password\")\n",
    "confluence = Confluence(\n",
    "    url='https://confluence.corp.bioagilytix.com/confluence',\n",
    "    username=username,\n",
    "    password=password)\n"
   ]
  },
  {
   "cell_type": "code",
   "execution_count": 56,
   "metadata": {},
   "outputs": [],
   "source": [
    "def getAllChildren(parentPageId):\n",
    "    result = confluence.get_page_by_id(page_id=parentPageId, expand=\"children\")\n",
    "    ##requestUrl = result['children']['_links']['self']\n",
    "    requestUrl = \"{}{}/search?start=0&limit=9999&cql=parent={}\".format(\n",
    "        confluenceBaseUrl, contentApiUrl, \"23005842\")\n",
    "    print(requestUrl)\n",
    "\n",
    "    requestResponse = requests.get(requestUrl, auth=(username, password))\n",
    "    print(requestResponse)\n",
    "    return requestResponse.json()['results']\n"
   ]
  },
  {
   "cell_type": "code",
   "execution_count": 57,
   "metadata": {},
   "outputs": [
    {
     "name": "stdout",
     "output_type": "stream",
     "text": [
      "https://confluence.corp.bioagilytix.com/confluence/rest/api/content/search?start=0&limit=9999&cql=parent=23005842\n",
      "<Response [200]>\n"
     ]
    }
   ],
   "source": [
    "pageList = getAllChildren(23005842)\n"
   ]
  },
  {
   "cell_type": "code",
   "execution_count": 59,
   "metadata": {},
   "outputs": [
    {
     "name": "stdout",
     "output_type": "stream",
     "text": [
      "{'expand': 'approvals,actions,tasks,states', 'workflowName': 'Developer-->Requestor-->QA Management Review', 'state': {'name': 'QA Management Review', 'initial': False, 'colour': '#4A6785', 'hideStates': False, 'taskable': True, 'changeDueDate': False, 'transitions': {'approved': {'state': 'Final'}, 'rejected': {'state': 'Developer Review'}, 'select': []}, 'final': False}, 'messages': [], 'displayProgressTracker': True, 'displaySuppressReadConfirmation': False, 'contributors': {'totalSize': -1, 'result': []}}\n",
      "QA Management Review\n",
      "False\n"
     ]
    }
   ],
   "source": [
    "pageId = \"26385962\"\n",
    "requestUrl = \"{confluence}/rest/cw/1/content/{pageId}/status\".format(\n",
    "    confluence=confluenceBaseUrl, pageId=pageId)\n",
    "\n",
    "requestResponse = requests.get(requestUrl, auth=(username, password))\n",
    "print(requestResponse.json())\n",
    "print(requestResponse.json()['state']['name'])\n",
    "print(requestResponse.json()['state']['initial'])\n"
   ]
  },
  {
   "cell_type": "code",
   "execution_count": 48,
   "metadata": {},
   "outputs": [],
   "source": [
    "def getRejectedPage(pageId, initialState):\n",
    "    requestUrl = \"{confluence}/rest/cw/1/content/{pageId}/status\".format(\n",
    "        confluence = confluenceBaseUrl, pageId = pageId)\n",
    "\n",
    "    requestResponse = requests.get(requestUrl, auth=(username, password))\n",
    "    state = requestResponse.json()['state']['name']\n",
    "    initial = requestResponse.json()['state']['initial']\n",
    "    if state == initialState and initial == False:\n",
    "        return True\n"
   ]
  },
  {
   "cell_type": "code",
   "execution_count": 60,
   "metadata": {},
   "outputs": [
    {
     "data": {
      "text/plain": [
       "{'id': '39649733',\n",
       " 'type': 'page',\n",
       " 'status': 'current',\n",
       " 'title': 'SHP611 Enzymatic PK Activity  in Human Serum – Sample Analysis',\n",
       " 'restrictions': {},\n",
       " '_links': {'webui': '/pages/viewpage.action?pageId=39649733',\n",
       "  'tinyui': '/x/xQFdAg',\n",
       "  'self': 'https://confluence.corp.bioagilytix.com/confluence/rest/api/content/39649733'},\n",
       " '_expandable': {'container': '',\n",
       "  'metadata': '',\n",
       "  'extensions': '',\n",
       "  'operations': '',\n",
       "  'children': '',\n",
       "  'history': '/rest/api/content/39649733/history',\n",
       "  'ancestors': '',\n",
       "  'body': '',\n",
       "  'version': '',\n",
       "  'descendants': '',\n",
       "  'space': '/rest/api/space/WsRepo'}}"
      ]
     },
     "execution_count": 60,
     "metadata": {},
     "output_type": "execute_result"
    }
   ],
   "source": [
    "pageList[0]"
   ]
  },
  {
   "cell_type": "code",
   "execution_count": 64,
   "metadata": {},
   "outputs": [
    {
     "name": "stdout",
     "output_type": "stream",
     "text": [
      "Worksheet for Detection of Neutralized Antibodies to Recombinant Human Acid Alpha Glucosidase (rhGAA) in Human Plasma Samples Using a Glycogen Substrate-based Enzymatic Assay\n",
      "\tPage ID: 28610636\n",
      "\tPage Link: https://confluence.corp.bioagilytix.com/confluence/pages/viewpage.action?pageId=28610636\n",
      "\n",
      "Confirmatory Assay Worksheet for the Detection of Anti-ZTS-00084768 Antibodies in Feline Serum Method\n",
      "\tPage ID: 26389467\n",
      "\tPage Link: https://confluence.corp.bioagilytix.com/confluence/display/WsRepo/Confirmatory+Assay+Worksheet+for+the+Detection+of+Anti-ZTS-00084768+Antibodies+in+Feline+Serum+Method\n",
      "\n",
      "CTX130 Sample Analysis Plan Worksheet (004)\n",
      "\tPage ID: 23008269\n",
      "\tPage Link: https://confluence.corp.bioagilytix.com/confluence/pages/viewpage.action?pageId=23008269\n",
      "\n",
      "Screening and Specificity Worksheet for Detection and Characterization of Neutralizing Antibodies against Pegfilgrastim (CHS-1701) in Human K2 EDTA Plasma Samples\n",
      "\tPage ID: 23008206\n",
      "\tPage Link: https://confluence.corp.bioagilytix.com/confluence/pages/viewpage.action?pageId=23008206\n",
      "\n",
      "Screening and Titer Assay Worksheet for Detection of Anti-ZTS-00075623 Antibodies in Canine Serum Method\n",
      "\tPage ID: 26389505\n",
      "\tPage Link: https://confluence.corp.bioagilytix.com/confluence/display/WsRepo/Screening+and+Titer+Assay+Worksheet+for+Detection+of+Anti-ZTS-00075623+Antibodies+in+Canine+Serum+Method\n",
      "\n",
      "Screening and Titer Worksheet for the Detection of Anti-ZTS-00084768 Antibodies in Feline Serum Method\n",
      "\tPage ID: 26390568\n",
      "\tPage Link: https://confluence.corp.bioagilytix.com/confluence/display/WsRepo/Screening+and+Titer+Worksheet+for+the+Detection+of+Anti-ZTS-00084768+Antibodies+in+Feline+Serum+Method\n",
      "\n",
      "A Direct Binding ELISA for the Detection of Antibodies Against PEG in Human Serum\n",
      "\tPage ID: 28633436\n",
      "\tPage Link: https://confluence.corp.bioagilytix.com/confluence/display/WsRepo/A+Direct+Binding+ELISA+for+the+Detection+of+Antibodies+Against+PEG+in+Human+Serum\n",
      "\n",
      "Anti-ZTS-00008183 ADA Assay: Sample Analysis - Confirmatory\n",
      "\tPage ID: 26389518\n",
      "\tPage Link: https://confluence.corp.bioagilytix.com/confluence/display/WsRepo/Anti-ZTS-00008183+ADA+Assay%3A+Sample+Analysis+-+Confirmatory\n",
      "\n",
      "ZTS-8185_ADA_Screening and Titer Worksheet\n",
      "\tPage ID: 26391022\n",
      "\tPage Link: https://confluence.corp.bioagilytix.com/confluence/display/WsRepo/ZTS-8185_ADA_Screening+and+Titer+Worksheet\n",
      "\n"
     ]
    }
   ],
   "source": [
    "for page in pageList:\n",
    "    pageId = page['id']\n",
    "    pageTitle = page['title']\n",
    "    link = \"{}{}\".format(confluenceBaseUrl, page['_links']['webui'])\n",
    "    if (getRejectedPage(pageId, 'Developer Review')):\n",
    "        \n",
    "        print(pageTitle)\n",
    "        print('\\tPage ID: ' + pageId)\n",
    "        print('\\tPage Link: ' + link)\n",
    "        print()\n"
   ]
  },
  {
   "cell_type": "code",
   "execution_count": null,
   "metadata": {},
   "outputs": [],
   "source": []
  }
 ],
 "metadata": {
  "interpreter": {
   "hash": "a87a7505f4d89169e6d5cf2a6d7bd7359ab6cdd6d48becaea481015b98b3383d"
  },
  "kernelspec": {
   "display_name": "Python 3.6.8 64-bit ('base': conda)",
   "language": "python",
   "name": "python3"
  },
  "language_info": {
   "codemirror_mode": {
    "name": "ipython",
    "version": 3
   },
   "file_extension": ".py",
   "mimetype": "text/x-python",
   "name": "python",
   "nbconvert_exporter": "python",
   "pygments_lexer": "ipython3",
   "version": "3.6.8"
  },
  "orig_nbformat": 4
 },
 "nbformat": 4,
 "nbformat_minor": 2
}
