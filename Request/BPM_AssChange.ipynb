{
 "cells": [
  {
   "cell_type": "code",
   "execution_count": null,
   "metadata": {},
   "outputs": [],
   "source": [
    "import sys\n",
    "sys.path.append('../')\n",
    "from Confluence.Confluence_Util import Confluence_Util\n",
    "from Comala.Comala_Util import Comala_Util\n",
    "from getpass import getpass\n",
    "import time\n",
    "from atlassian import Confluence\n",
    "import requests\n",
    "\n",
    "\n",
    "contentApiUrl = '/rest/api/content'\n",
    "# Change these based on your instance\n",
    "confluenceBaseUrl = \"https://confluence.corp.bioagilytix.com/confluence\"\n",
    "\n",
    "\n",
    "username = 'yangyang.liu'\n",
    "password = getpass(\"password\")\n",
    "\n",
    "\n",
    "confluenceUtil = Confluence_Util(confluenceBaseUrl, username, password)\n",
    "comalaUtil = Comala_Util(confluenceBaseUrl, username, password)\n"
   ]
  },
  {
   "cell_type": "code",
   "execution_count": null,
   "metadata": {},
   "outputs": [],
   "source": [
    "def fixFootNoteField(pageIdList):\n",
    "    for pageId in pageIdList:\n",
    "        if comalaUtil.isFinal(pageId) < 1:\n",
    "            requestUrl = \"{}/rest/scriptrunner/latest/custom/addFootNoteField?rootPageId={}\".format(confluenceBaseUrl, pageId)\n",
    "        print(requestUrl)\n",
    "\n",
    "        requestResponse = requests.get(requestUrl, auth=(username, password))\n",
    "        time.sleep(5)\n",
    "        print(requestResponse.json())\n",
    "        print()\n",
    "        "
   ]
  },
  {
   "cell_type": "code",
   "execution_count": null,
   "metadata": {},
   "outputs": [],
   "source": [
    "allSpace = confluence.get_all_spaces(start=500, limit=2000)\n"
   ]
  },
  {
   "cell_type": "code",
   "execution_count": null,
   "metadata": {},
   "outputs": [],
   "source": [
    "pageIdList = confluenceUtil.get_all_page_id_from_space('YSB')\n",
    "for pageId in pageIdList:\n",
    "    print(comalaUtil.isFinal(pageId))"
   ]
  }
 ],
 "metadata": {
  "language_info": {
   "name": "python"
  },
  "orig_nbformat": 4
 },
 "nbformat": 4,
 "nbformat_minor": 2
}
