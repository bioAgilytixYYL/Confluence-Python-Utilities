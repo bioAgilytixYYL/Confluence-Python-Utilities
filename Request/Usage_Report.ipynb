{
 "cells": [
  {
   "cell_type": "code",
   "execution_count": 1,
   "metadata": {},
   "outputs": [],
   "source": [
    "import requests\n",
    "from atlassian import Confluence\n",
    "import time\n",
    "from getpass import getpass\n",
    "\n",
    "contentApiUrl = '/rest/api/content'\n",
    "# Change these based on your instance\n",
    "confluenceBaseUrl = 'https://confluence.corp.bioagilytix.com/confluence'\n"
   ]
  },
  {
   "cell_type": "code",
   "execution_count": 2,
   "metadata": {},
   "outputs": [],
   "source": [
    "\n",
    "username = 'yangyang.liu'\n",
    "password = getpass(\"password\")\n",
    "confluence = Confluence(\n",
    "    url='https://confluence.corp.bioagilytix.com/confluence',\n",
    "    username=username,\n",
    "    password=password)\n"
   ]
  },
  {
   "cell_type": "code",
   "execution_count": 3,
   "metadata": {},
   "outputs": [],
   "source": [
    "def getAllChildren(parentPageId):\n",
    "    result = confluence.get_page_by_id(page_id=parentPageId, expand=\"children\")\n",
    "    ##requestUrl = result['children']['_links']['self']\n",
    "    requestUrl = \"{}{}/search?start=0&limit=9999&cql=parent={}\".format(\n",
    "        confluenceBaseUrl, contentApiUrl, \"23005842\")\n",
    "    print(requestUrl)\n",
    "\n",
    "    requestResponse = requests.get(requestUrl, auth=(username, password))\n",
    "    print(requestResponse)\n",
    "    return requestResponse.json()['results']\n"
   ]
  },
  {
   "cell_type": "code",
   "execution_count": 5,
   "metadata": {},
   "outputs": [],
   "source": [
    "def isDraft(pageId):\n",
    "\n",
    "    requestUrl = \"https://confluence.corp.bioagilytix.com/confluence/rest/cw/1/content/{}/status\".format(\n",
    "        pageId)\n",
    "\n",
    "    requestResponse = requests.get(requestUrl, auth=(username, password))\n",
    "    if (requestResponse.status_code == 200):\n",
    "        print(requestResponse.json())\n",
    "        if requestResponse.json()['state']['name'] == \"Draft\":\n",
    "            return True\n",
    "    return False\n"
   ]
  },
  {
   "cell_type": "code",
   "execution_count": 6,
   "metadata": {},
   "outputs": [],
   "source": [
    "def getConfiFormEntries(pageId, formName):\n",
    "    requestUrl = \"https://confluence.corp.bioagilytix.com/confluence/ajax/confiforms/rest/filter.action?pageId={}&f={}\".format(pageId, formName)\n",
    "    requestResponse = requests.get(requestUrl, auth=(username, password))\n",
    "    \n",
    "    return requestResponse.json()['list']['entry']\n",
    "    \n"
   ]
  },
  {
   "cell_type": "code",
   "execution_count": 13,
   "metadata": {},
   "outputs": [],
   "source": [
    "def getPageBody(pageId):\n",
    "    requestUrl = \"{}/rest/api/content/{}?expand=body.storage\".format(\n",
    "        confluenceBaseUrl, pageId)\n",
    "    requestResponse = requests.get(requestUrl, auth=(username, password))\n",
    "    return requestResponse.json()['body']['storage']['value']"
   ]
  },
  {
   "cell_type": "code",
   "execution_count": 14,
   "metadata": {},
   "outputs": [],
   "source": [
    "bodyStorage = getPageBody(28607721)\n"
   ]
  },
  {
   "cell_type": "code",
   "execution_count": 33,
   "metadata": {},
   "outputs": [
    {
     "name": "stdout",
     "output_type": "stream",
     "text": [
      "[<ac:parameter ac:name=\"formName\">runinfo</ac:parameter>, <ac:parameter ac:name=\"formName\">runinfo</ac:parameter>, <ac:parameter ac:name=\"formName\">runinfo</ac:parameter>]\n"
     ]
    }
   ],
   "source": [
    "from bs4 import BeautifulSoup\n",
    "\n",
    "\n",
    "\n",
    "parsed_html = BeautifulSoup(bodyStorage)\n",
    "form = parsed_html.find('ac:structured-macro', attrs={\"ac:name\": \"confiform\"})\n",
    "print(form.findAll('ac:parameter', attrs={\"ac:name\": \"formName\"}))\n"
   ]
  },
  {
   "cell_type": "code",
   "execution_count": null,
   "metadata": {},
   "outputs": [],
   "source": []
  }
 ],
 "metadata": {
  "interpreter": {
   "hash": "a87a7505f4d89169e6d5cf2a6d7bd7359ab6cdd6d48becaea481015b98b3383d"
  },
  "kernelspec": {
   "display_name": "Python 3.6.8 64-bit ('base': conda)",
   "language": "python",
   "name": "python3"
  },
  "language_info": {
   "codemirror_mode": {
    "name": "ipython",
    "version": 3
   },
   "file_extension": ".py",
   "mimetype": "text/x-python",
   "name": "python",
   "nbconvert_exporter": "python",
   "pygments_lexer": "ipython3",
   "version": "3.6.8"
  },
  "orig_nbformat": 4
 },
 "nbformat": 4,
 "nbformat_minor": 2
}
